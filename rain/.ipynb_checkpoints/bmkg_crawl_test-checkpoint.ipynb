{
 "cells": [
  {
   "cell_type": "code",
   "execution_count": 7,
   "metadata": {},
   "outputs": [],
   "source": [
    "import requests\n",
    "import cloudscraper"
   ]
  },
  {
   "cell_type": "code",
   "execution_count": 8,
   "metadata": {},
   "outputs": [],
   "source": [
    "scraper = cloudscraper.create_scraper()\n",
    "download_path = 'https://dataonline.bmkg.go.id/data_iklim/download'\n",
    "\n",
    "payloads = {r'station-name':r'Stasiun Geofisika Aceh Besar',\n",
    "            r'from':r'01-01-1968',\n",
    "            r'to':r'31-12-2021',\n",
    "            r'parameter[]':r'rainfall',\n",
    "            r'type':r'mkg',\n",
    "            r'idmcfeedback':r'3324695'}\n",
    "\n",
    "res = requests.post(download_path, data=payloads)"
   ]
  },
  {
   "cell_type": "code",
   "execution_count": 9,
   "metadata": {},
   "outputs": [
    {
     "data": {
      "text/plain": [
       "'<script type=\"text/javascript\">\\n\\t\\t\\t\\t\\t\\twindow.location.href=\"https://dataonline.bmkg.go.id/home\"\\n\\t\\t\\t\\t\\t </script>\\n<div style=\"border:1px solid #990000;padding-left:20px;margin:0 0 10px 0;\">\\n\\n<h4>A PHP Error was encountered</h4>\\n\\n<p>Severity: Core Warning</p>\\n<p>Message:  PHP Startup: memcache: Unable to initialize module\\nModule compiled with module API=20170718\\nPHP    compiled with module API=20160303\\nThese options need to match\\n</p>\\n<p>Filename: Unknown</p>\\n<p>Line Number: 0</p>\\n\\n\\n\\t<p>Backtrace:</p>\\n\\t\\n\\t\\t\\n\\t\\n\\t\\t\\n\\t\\n\\t\\t\\n\\t\\n\\t\\t\\n\\t\\n\\n</div>'"
      ]
     },
     "execution_count": 9,
     "metadata": {},
     "output_type": "execute_result"
    }
   ],
   "source": [
    "res.text"
   ]
  },
  {
   "cell_type": "code",
   "execution_count": 4,
   "metadata": {},
   "outputs": [],
   "source": [
    "stations = ('Stasiun Geofisika Aceh Besar','Stasiun Meteorologi Maritim Pontianak','Stasiun Geofisika Banjarnegara','Stasiun Klimatologi Jayapura','Stasiun Meteorologi Utarom','Pos Meteorologi Penggung','Stasiun Meteorologi Maimun Saleh','Stasiun Meteorologi Malikussaleh','Stasiun Meteorologi Sultan Iskandar Muda','Stasiun Meteorologi Tanjung Harapan','Stasiun Meteorologi Cut Nyak Dhien Nagan Raya','Stasiun Klimatologi Aceh Besar','Stasiun Klimatologi Deli Serdang','Stasiun Meteorologi Maritim Belawan','Stasiun Meteorologi Kualanamu','Stasiun Geofisika Deli Serdang','Stasiun Meteorologi Aek Godang','Stasiun Meteorologi FL Tobing','Stasiun Meteorologi Binaka','Stasiun Geofisika Gunungsitoli','Stasiun Meteorologi Hang Nadim','Stasiun Meteorologi Raja Haji Abdullah','Stasiun Meteorologi Raja Haji Fisabilillah','Stasiun Meteorologi Sultan Syarif Kasim II','Stasiun Meteorologi Tarempa','Stasiun Meteorologi Ranai','Stasiun Meteorologi Maritim Teluk Bayur','Stasiun Meteorologi Minangkabau','Stasiun Geofisika Padang Panjang','Stasiun Klimatologi Padang Pariaman','Stasiun Meteorologi Japura','Stasiun Meteorologi Dabo','Stasiun Klimatologi Muaro Jambi','Stasiun Meteorologi Sultan Thaha','Stasiun Pemantau Atmosfer Global Bukit Koto Tabang','Stasiun Meteorologi Depati Parbo','Stasiun Meteorologi Sultan Mahmud Badaruddin II','Stasiun Klimatologi Palembang','Stasiun Meteorologi Depati Amir','Stasiun Geofisika Tanjung Pandan','Stasiun Meteorologi H. AS. Hananjoeddin','Stasiun Meteorologi Fatmawati Soekarno','Stasiun Klimatologi Bengkulu','Stasiun Geofisika Kepahiang','Stasiun Klimatologi Pesawaran','Stasiun Meteorologi Maritim Panjang','Stasiun Meteorologi Radin Inten II','Stasiun Geofisika Lampung Utara','Stasiun Meteorologi Yuvai Semaring','Stasiun Meteorologi Nunukan','Stasiun Meteorologi Juwata','Stasiun Meteorologi Kalimarau','Stasiun Meteorologi Paloh','Stasiun Meteorologi Nangapinoh','Stasiun Meteorologi Susilo','Stasiun Meteorologi Pangsuma','Stasiun Meteorologi Supadio','Stasiun Klimatologi Mempawah','Stasiun Meteorologi Beringin','Stasiun Meteorologi Temindung','Stasiun Meteorologi Rahadi Oesman','Stasiun Meteorologi Sultan Aji Muhammad Sulaiman Sepinggan','Stasiun Meteorologi Iskandar','Stasiun Meteorologi H. Asan','Stasiun Meteorologi Sanggu','Stasiun Meteorologi Tjilik Riwut','Stasiun Meteorologi Syamsudin Noor','Stasiun Klimatologi Banjarbaru','Stasiun Meteorologi Gusti Syamsir Alam','Stasiun Klimatologi Tangerang Selatan','Stasiun Geofisika Tangerang','Stasiun Meteorologi Maritim Serang','Stasiun Meteorologi Budiarto','Stasiun Meteorologi Maritim Tanjung Priok','Stasiun Meteorologi Kemayoran','Stasiun Meteorologi Soekarno Hatta','Stasiun Meteorologi Citeko','Stasiun Klimatologi Bogor','Stasiun Geofisika Bandung','Stasiun Meteorologi Kertajati','Stasiun Meteorologi Tegal','Stasiun Meteorologi Tunggul Wulung','Stasiun Klimatologi Semarang','Stasiun Meteorologi Maritim Tanjung Emas','Stasiun Meteorologi Ahmad Yani','Stasiun Geofisika Sleman','Stasiun Meteorologi Sangkapura','Stasiun Meteorologi Perak I','Stasiun Meteorologi Juanda','Stasiun Meteorologi Maritim Tanjung Perak','Stasiun Klimatologi Malang','Stasiun Geofisika Pasuruan','Stasiun Geofisika Malang','Stasiun Meteorologi Kalianget','Stasiun Geofisika Nganjuk','Stasiun Meteorologi Banyuwangi','Stasiun Meteorologi Naha','Stasiun Klimatologi Minahasa Utara','Stasiun Meteorologi Sam Ratulangi','Stasiun Meteorologi Maritim Bitung','Stasiun Meteorologi Sultan Bantilan','Stasiun Meteorologi Djalaluddin','Stasiun Meteorologi Mutiara Sis-Al Jufri','Stasiun Meteorologi Syukuran Aminudin Amir','Stasiun Meteorologi Kasiguncu','Stasiun Meteorologi Majene','Stasiun Meteorologi Pongtiku','Stasiun Meteorologi Andi Jemma','Stasiun Meteorologi Sangia Ni Bandera','Stasiun Meteorologi Maritim Kendari','Stasiun Meteorologi Sultan Hasanuddin','Stasiun Meteorologi Maritim Paotere','Stasiun Klimatologi Maros','Stasiun Meteorologi Beto Ambari','Stasiun Meteorologi I Gusti Ngurah Rai','Stasiun Geofisika Denpasar','Pos Pengamatan Kahang-Kahang','Stasiun Klimatologi Jembrana','Stasiun Meteorologi Zainuddin Abdul Madjid','Stasiun Klimatologi Lombok Barat','Stasiun Meteorologi Sultan Muhammad Kaharuddin','Stasiun Meteorologi Sultan Muhammad Salahuddin','Stasiun Meteorologi Komodo','Stasiun Meteorologi Frans Sales Lega','Stasiun Meteorologi Fransiskus Xaverius Seda','Stasiun Meteorologi Gewayantana','Stasiun Meteorologi Mali','Stasiun Meteorologi Umbu Mehang Kunda','Stasiun Klimatologi Kupang','Stasiun Meteorologi Eltari','Stasiun Meteorologi David Constatijn Saudale','Stasiun Meteorologi Tardamu','Stasiun Meteorologi Gamar Malamo','Stasiun Meteorologi Sultan Babullah','Stasiun Geofisika Ternate','Stasiun Meteorologi Oesman Sadik','Stasiun Meteorologi Seigun','Stasiun Meteorologi Rendani','Stasiun Meteorologi Frans Kaisiepo','Stasiun Meteorologi Sudjarwo Tjondro Negoro','Stasiun Meteorologi Mararena','Stasiun Meteorologi Emalamo','Stasiun Meteorologi Torea','Stasiun Meteorologi Moanamani','Stasiun Meteorologi Wamena Jaya Wijaya','Stasiun Meteorologi Sentani','Stasiun Klimatologi Manokwari Selatan','Stasiun Meteorologi Dok II Jayapura','Stasiun Meteorologi Namlea','Stasiun Meteorologi Amahai','Stasiun Meteorologi Pattimura','Stasiun Klimatologi Seram Bagian Barat','Stasiun Meteorologi Geser','Stasiun Meteorologi Enarotali','Stasiun Meteorologi Bandaneira','Stasiun Meteorologi Mozez Kilangin','Stasiun Meteorologi Karel Sadsuitubun','Stasiun Meteorologi Tanah Merah','Stasiun Meteorologi Mopah','Stasiun Geofisika Winangun','Stasiun Klimatologi Tanah Miring','Stasiun Klimatologi Konawe Selatan','Stasiun Klimatologi Bone Bolango','Stasiun Meteorologi Tuban','Stasiun Klimatologi Kampar','Stasiun Klimatologi Sleman','Stasiun Klimatologi Bangka Tengah','Stasiun Meteorologi Maritim Ambon','Balai Besar Meteorologi, Klimatologi, dan Geofisika Wilayah I','Stasiun Geofisika Sorong','Stasiun Geofisika Aceh Selatan','Stasiun Geofisika Balikpapan','Stasiun Geofisika Gorontalo','Stasiun Geofisika Palu','Stasiun Geofisika Kendari','Stasiun Geofisika Gowa','Stasiun Geofisika Sumba Timur','Stasiun Geofisika Kupang','Stasiun Geofisika Angkasapura','Stasiun Geofisika Karang Panjang','Stasiun Geofisika Nabire','Stasiun Meteorologi Mathilda Batlayeri','Stasiun Geofisika Saumlaki','Balai Besar Meteorologi, Klimatologi , dan Geofisika Wilayah III','Stasiun Pemantau Atmosfer Global Lore Lindu Bariri','Stasiun Pemantau Atmosfer Global Puncak Vihara Klademak','Stasiun Geofisika Alor','Stasiun Meteorologi Silangit','Halim Perdana Kusuma Jakarta','Balai Besar Meteorologi, Klimatologi, dan Geofisika Wilayah IV')"
   ]
  },
  {
   "cell_type": "code",
   "execution_count": 42,
   "metadata": {},
   "outputs": [],
   "source": [
    "# Using selenium\n",
    "from selenium import webdriver\n",
    "from selenium.webdriver import Chrome, Firefox\n",
    "from selenium.webdriver.firefox.options import Options\n",
    "import os"
   ]
  },
  {
   "cell_type": "code",
   "execution_count": 57,
   "metadata": {},
   "outputs": [
    {
     "name": "stderr",
     "output_type": "stream",
     "text": [
      "C:\\Users\\Jonathan Raditya\\AppData\\Roaming\\Python\\Python37\\site-packages\\ipykernel_launcher.py:65: DeprecationWarning: find_element_by_* commands are deprecated. Please use find_element() instead\n"
     ]
    }
   ],
   "source": [
    "station_id = stations[1].replace(' ','_')\n",
    "\n",
    "try:\n",
    "    os.mkdir(f'./data_download/{station_id}/')\n",
    "except FileExistsError:\n",
    "    pass\n",
    "\n",
    "mime_types = [\n",
    "    'text/plain', \n",
    "    'application/vnd.ms-excel', \n",
    "    '\"application/x-msexcel,application/excel,application/x-excel,application/excel,application/x-excel,application/excel,application/vnd.ms-excel,application/x-excel,application/x-msexcel',\n",
    "    'text/csv', \n",
    "    'text/xml',\n",
    "    'application/csv', \n",
    "    'text/comma-separated-values', \n",
    "    'application/download', \n",
    "    'application/octet-stream', \n",
    "    'binary/octet-stream', \n",
    "    'application/binary', \n",
    "    'application/x-unknown'\n",
    "    'application/x-www-form-urlencoded',\n",
    "]\n",
    "joined_mime_types = \",\".join(mime_types)\n",
    "\n",
    "# To prevent download dialog\n",
    "profile = Options()\n",
    "profile.set_preference('browser.download.folderList',2) # custom location\n",
    "\n",
    "profile.set_preference('browser.download.dir', \"C:\\\\Temp\")\n",
    "\n",
    "profile.set_preference(\"browser.download.alertOnEXEOpen\", False);\n",
    "\n",
    "profile.set_preference('browser.helperApps.neverAsk.saveToDisk', joined_mime_types)\n",
    "\n",
    "profile.set_preference('browser.download.manager.showWhenStarting', False)\n",
    "\n",
    "profile.set_preference(\"browser.download.manager.focusWhenStarting\", False);\n",
    "\n",
    "profile.set_preference(\"browser.helperApps.alwaysAsk.force\", False);\n",
    "\n",
    "profile.set_preference(\"browser.download.manager.alertOnEXEOpen\", False);\n",
    "\n",
    "profile.set_preference(\"browser.download.manager.closeWhenDone\", True);\n",
    "\n",
    "profile.set_preference(\"browser.download.manager.showAlertOnComplete\", False);\n",
    "\n",
    "profile.set_preference(\"browser.download.manager.useWindow\", False);\n",
    "\n",
    "profile.set_preference(\"services.sync.prefs.sync.browser.download.manager.showWhenStarting\", False);\n",
    "\n",
    "profile.set_preference(\"pdfjs.disabled\", True);\n",
    "\n",
    "\n",
    "\n",
    "\n",
    "\n",
    "# profile.set_preference(\"browser.download.panel.shown\", False)\n",
    "# profile.set_preference(\"browser.download.useDownloadDir\", True);\n",
    "\n",
    "\n",
    "\n",
    "driver = Firefox(options=profile)\n",
    "# driver.get('https://people.sc.fsu.edu/~jburkardt/data/csv/addresses.csv')\n",
    "driver.get('https://skp.bz/downruge/rainonly')\n",
    "driver.find_element_by_id(station_id).click()\n",
    "# driver.quit()"
   ]
  },
  {
   "cell_type": "code",
   "execution_count": 54,
   "metadata": {},
   "outputs": [],
   "source": [
    "driver.quit()"
   ]
  },
  {
   "cell_type": "code",
   "execution_count": 7,
   "metadata": {},
   "outputs": [
    {
     "data": {
      "text/plain": [
       "'Stasiun_Meteorologi_Maritim_Pontianak'"
      ]
     },
     "execution_count": 7,
     "metadata": {},
     "output_type": "execute_result"
    }
   ],
   "source": [
    "stations[1].replace(' ','_')"
   ]
  },
  {
   "cell_type": "code",
   "execution_count": null,
   "metadata": {},
   "outputs": [],
   "source": []
  }
 ],
 "metadata": {
  "kernelspec": {
   "display_name": "Python 3",
   "language": "python",
   "name": "python3"
  },
  "language_info": {
   "codemirror_mode": {
    "name": "ipython",
    "version": 3
   },
   "file_extension": ".py",
   "mimetype": "text/x-python",
   "name": "python",
   "nbconvert_exporter": "python",
   "pygments_lexer": "ipython3",
   "version": "3.7.1"
  }
 },
 "nbformat": 4,
 "nbformat_minor": 2
}
