{
 "cells": [
  {
   "cell_type": "code",
   "execution_count": 23,
   "metadata": {},
   "outputs": [],
   "source": [
    "with open('test.txt', 'r')as f:\n",
    "    data =f.read()\n",
    "    \n",
    "#print(data)\n",
    "\n",
    "with open('test2.txt', 'w')as g:\n",
    "    data2='Lorem Ipsum replaced with this text'\n",
    "    g.write(data2)\n",
    "    \n",
    "with open('test2.txt', 'r')as h:\n",
    "    secondData=h.read()\n",
    "    \n",
    "#print('\\n', secondData)"
   ]
  },
  {
   "cell_type": "code",
   "execution_count": 24,
   "metadata": {},
   "outputs": [
    {
     "name": "stdout",
     "output_type": "stream",
     "text": [
      ".ipynb_checkpoints\n",
      "DEM Processing.ipynb\n",
      "geopandas\n",
      "Test Read Data.ipynb\n",
      "test.txt\n",
      "test2.txt\n"
     ]
    }
   ],
   "source": [
    "import os\n",
    "\n",
    "with os.scandir('./') as entries:\n",
    "    for entry in entries:\n",
    "        print(entry.name)"
   ]
  },
  {
   "cell_type": "code",
   "execution_count": 25,
   "metadata": {},
   "outputs": [],
   "source": [
    "result=[]\n",
    "with os.scandir('../download') as downloadEntries:\n",
    "    for dirDownDemnas in downloadEntries:\n",
    "        #print(dirDownDemnas.name)\n",
    "        result=result +[dirDownDemnas.name]\n",
    "\n",
    "result.sort()\n",
    "   \n",
    "    \n",
    "    "
   ]
  },
  {
   "cell_type": "code",
   "execution_count": 26,
   "metadata": {},
   "outputs": [
    {
     "name": "stdout",
     "output_type": "stream",
     "text": [
      "[]\n"
     ]
    }
   ],
   "source": [
    "import json\n",
    "\n",
    "with open('../example.json', 'r') as demnasJson:\n",
    "    demnasJsonRead=json.load(demnasJson)\n",
    "    \n",
    "\n",
    "listFile=[]\n",
    "for i in range(len(demnasJsonRead['features'])):\n",
    "    #print(demnasJsonRead['features'][i]['properties']['NAMOBJ'])\n",
    "    nameScheme=str(i)+'_DEMNAS_'+demnasJsonRead['features'][i]['properties']['NAMOBJ']+'_v1.0.tif'\n",
    "    listFile=listFile+[nameScheme]\n",
    "\n",
    "#print(listFile)\n",
    "\n",
    "#check availability\n",
    "notAvail=[]\n",
    "for i in range(len(listFile)):\n",
    "    if listFile[i] not in result:\n",
    "        notAvail=notAvail+[listFile[i]]\n",
    "        \n",
    "print(notAvail)\n",
    "    \n"
   ]
  },
  {
   "cell_type": "code",
   "execution_count": null,
   "metadata": {},
   "outputs": [],
   "source": []
  }
 ],
 "metadata": {
  "kernelspec": {
   "display_name": "Python 3",
   "language": "python",
   "name": "python3"
  },
  "language_info": {
   "codemirror_mode": {
    "name": "ipython",
    "version": 3
   },
   "file_extension": ".py",
   "mimetype": "text/x-python",
   "name": "python",
   "nbconvert_exporter": "python",
   "pygments_lexer": "ipython3",
   "version": "3.8.3"
  }
 },
 "nbformat": 4,
 "nbformat_minor": 4
}
