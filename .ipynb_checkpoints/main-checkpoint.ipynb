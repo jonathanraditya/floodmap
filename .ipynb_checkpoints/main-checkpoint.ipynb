{
 "cells": [
  {
   "cell_type": "code",
   "execution_count": 164,
   "id": "b6ca053d-94b4-4252-af7f-8c6add8446ea",
   "metadata": {},
   "outputs": [],
   "source": [
    "import pandas as pd\n",
    "import numpy as np\n",
    "import os\n",
    "import matplotlib.pyplot as plt\n",
    "import json\n",
    "import re\n",
    "import string"
   ]
  },
  {
   "cell_type": "markdown",
   "id": "eac44356-8b31-499c-b86c-3b1b46a7a173",
   "metadata": {},
   "source": [
    "# Tides processing"
   ]
  },
  {
   "cell_type": "code",
   "execution_count": 223,
   "id": "8764230d-c412-4ccb-9572-e3cb80cc7247",
   "metadata": {},
   "outputs": [],
   "source": [
    "root_path = os.getcwd()\n",
    "tides_root_path = os.path.join(root_path, 'tides')\n",
    "tides_data_path = os.path.join(tides_root_path, 'raw')"
   ]
  },
  {
   "cell_type": "code",
   "execution_count": 224,
   "id": "08ccdae7-b0a8-4963-8b09-e2aab2027d5c",
   "metadata": {},
   "outputs": [
    {
     "data": {
      "text/plain": [
       "'E:\\\\#PROJECT\\\\floodmap\\\\tides'"
      ]
     },
     "execution_count": 224,
     "metadata": {},
     "output_type": "execute_result"
    }
   ],
   "source": [
    "tides_root_path"
   ]
  },
  {
   "cell_type": "code",
   "execution_count": 225,
   "id": "c79c0a1c-d4fd-460f-b846-abd53ebcdeb8",
   "metadata": {},
   "outputs": [
    {
     "data": {
      "text/plain": [
       "'E:\\\\#PROJECT\\\\floodmap\\\\tides\\\\raw'"
      ]
     },
     "execution_count": 225,
     "metadata": {},
     "output_type": "execute_result"
    }
   ],
   "source": [
    "tides_data_path"
   ]
  },
  {
   "cell_type": "code",
   "execution_count": null,
   "id": "6487e340-c2c5-4e91-a0dd-5df80e8ccb48",
   "metadata": {},
   "outputs": [],
   "source": []
  },
  {
   "cell_type": "code",
   "execution_count": 23,
   "id": "3531e9d3-6c37-4ef9-bc18-65b4453b2405",
   "metadata": {},
   "outputs": [],
   "source": [
    "tides_data_list = os.listdir(tides_data_path)"
   ]
  },
  {
   "cell_type": "code",
   "execution_count": 24,
   "id": "ed29520a-06dd-4416-be3f-cb40314fef89",
   "metadata": {},
   "outputs": [
    {
     "data": {
      "text/plain": [
       "8210"
      ]
     },
     "execution_count": 24,
     "metadata": {},
     "output_type": "execute_result"
    }
   ],
   "source": [
    "len(tides_data_list)"
   ]
  },
  {
   "cell_type": "code",
   "execution_count": 34,
   "id": "aa2e245e-7183-4e96-b84c-bb421de04716",
   "metadata": {},
   "outputs": [
    {
     "data": {
      "text/plain": [
       "array([ 95.01131 , -10.987473], dtype=float32)"
      ]
     },
     "execution_count": 34,
     "metadata": {},
     "output_type": "execute_result"
    }
   ],
   "source": [
    "# Coordinate processor from filename\n",
    "np.array(tides_data_list[0].split('][')[2].split(',')).astype('float32')"
   ]
  },
  {
   "cell_type": "code",
   "execution_count": 37,
   "id": "51ad539a-446d-4fc0-83ae-885357684805",
   "metadata": {},
   "outputs": [],
   "source": [
    "\n"
   ]
  },
  {
   "cell_type": "code",
   "execution_count": 100,
   "id": "9f247e6f-0f60-4628-b435-35d4549cdbff",
   "metadata": {
    "tags": []
   },
   "outputs": [
    {
     "name": "stdout",
     "output_type": "stream",
     "text": [
      "4699/8210\n"
     ]
    }
   ],
   "source": [
    "# Extract tides value\n",
    "extracted_tides = []\n",
    "coordinates = []\n",
    "flag_duplicate_coordinate = 0\n",
    "flag_not_enough_data = 0 \n",
    "flag_invalid = 0\n",
    "\n",
    "for i, tides_data in enumerate(tides_data_list):\n",
    "    tides_file_path = os.path.join(tides_data_path, tides_data)\n",
    "    # tides_file_path = os.path.join(tides_data_path, '[123][30][138.54195170940173,0.29589898989899055][hasil(2)-1602398717703].txt')\n",
    "    with open(tides_file_path, 'r') as f:\n",
    "        data = f.readlines()\n",
    "        \n",
    "    coordinate = tides_data.split('][')[2].split(',')\n",
    "    \n",
    "    # Check if same coordinate have been processed before\n",
    "    if coordinate in coordinates:\n",
    "        flag_duplicate_coordinate += 1\n",
    "        # print(f'{i}/{len(tides_data_list)} duplicate coordinate')\n",
    "        continue\n",
    "\n",
    "    # value = np.array([d.strip()[-5:] for d in data[3:]]).astype('float32')\n",
    "    # coordinate = np.array(tides_data_list[0].split('][')[2].split(',')).astype('float32')\n",
    "    \n",
    "    # Valid tides data:\n",
    "    # 1. Index 0,1,2 are header\n",
    "    # 2. Data start from index 3\n",
    "    # 3. Have at least 360 data (if more are available, trimmed.)\n",
    "    if len(data) < 363:\n",
    "        flag_not_enough_data += 1\n",
    "        # print(f'{i}/{len(tides_data_list)} not enough data')\n",
    "        continue\n",
    "    \n",
    "    value = [d.strip()[-5:] for d in data[3:363]]\n",
    "    \n",
    "    # Check if extracted value is valid one, by detecting\n",
    "    # `*` pattern\n",
    "    if re.search('\\*', value[0]):\n",
    "        flag_invalid += 1\n",
    "        # print(f'{i}/{len(tides_data_list)} isn\\'t valid')\n",
    "        continue\n",
    "    else:\n",
    "        pass\n",
    "    \n",
    "    \n",
    "    extracted_tides.append([coordinate,value])\n",
    "    coordinates.append(coordinate)\n",
    "    if i % 100 == 99:\n",
    "        print(f'{i}/{len(tides_data_list)}')\n",
    "\n",
    "# Store to JSON\n",
    "extracted_tides_filename = 'extracted.json'\n",
    "extracted_tides_path = os.path.join(tides_root_path, extracted_tides_filename)\n",
    "with open(extracted_tides_path, 'w') as f:\n",
    "    json.dump(extracted_tides, f)\n",
    "    "
   ]
  },
  {
   "cell_type": "code",
   "execution_count": 101,
   "id": "8f6a7b8b-1ab4-4ee2-a337-d3235fc0e509",
   "metadata": {},
   "outputs": [
    {
     "data": {
      "text/plain": [
       "(3165, 109, 1748)"
      ]
     },
     "execution_count": 101,
     "metadata": {},
     "output_type": "execute_result"
    }
   ],
   "source": [
    "flag_duplicate_coordinate, flag_not_enough_data, flag_invalid"
   ]
  },
  {
   "cell_type": "markdown",
   "id": "24b183cd-2f50-4fcb-9189-cfd4cbeff7dd",
   "metadata": {},
   "source": [
    "# Run excel VBA, manipulate cell value, read back cell value"
   ]
  },
  {
   "cell_type": "code",
   "execution_count": 228,
   "id": "2924fab8-83d8-4616-a4d2-eea8683cd242",
   "metadata": {
    "tags": []
   },
   "outputs": [],
   "source": [
    "# Write input value\n",
    "wb = ox.load_workbook(filename=tides_engine_path, read_only=False, keep_vba=True)\n",
    "inputs = wb['Input']\n",
    "\n",
    "with open(extracted_tides_path, 'r') as f:\n",
    "    extracted_tides = json.load(f)\n",
    "\n",
    "start_row = 9\n",
    "column_ranges = string.ascii_uppercase[2:]\n",
    "\n",
    "for i, value in enumerate(extracted_tides[3000][1]):\n",
    "    if i % (len(column_ranges)) == 0:\n",
    "        start_row += 1\n",
    "    \n",
    "    column = i % len(column_ranges)\n",
    "    \n",
    "    cell = f'{column_ranges[column]}{start_row}'\n",
    "    inputs[cell] = float(value)\n",
    "\n",
    "wb.save(tides_excel_path)\n",
    "wb.close()"
   ]
  },
  {
   "cell_type": "code",
   "execution_count": 226,
   "id": "75e025bd-b7dc-465f-8549-ba649c97cf09",
   "metadata": {},
   "outputs": [],
   "source": [
    "import win32com.client\n",
    "\n",
    "tides_engine_path = os.path.join(tides_root_path, 'tides_engine.xlsm')\n",
    "# tides_excel_path = 'J:\\Kuliah\\Mata Kuliah\\Proteksi Pantai dan Rawa\\PrediksiPasut_Teluk Palu - Copy\\PrediksiPasut.xlsm'\n",
    "\n",
    "xl = win32com.client.Dispatch(\"Excel.Application\")\n",
    "\n",
    "wb = xl.Workbooks.Open(tides_engine_path)\n",
    "xl.Application.Run('tides_engine.xlsm!Sheet4.cmdRefresh_Click()')\n",
    "\n",
    "wb.Save()\n",
    "xl.Application.Quit()"
   ]
  },
  {
   "cell_type": "code",
   "execution_count": 229,
   "id": "46ff75ec-e6ad-41e6-a217-4f7dc86dabcd",
   "metadata": {},
   "outputs": [
    {
     "name": "stdout",
     "output_type": "stream",
     "text": [
      "0.8029214984271281 0.40161706773386086 0.21142364514928993 0.021230222564719042 -0.37316177895413327\n"
     ]
    }
   ],
   "source": [
    "import openpyxl as ox\n",
    "\n",
    "# Read existing workbook\n",
    "wb = ox.load_workbook(filename=tides_engine_path, read_only=False, keep_vba=True)\n",
    "results = wb['Calculation']\n",
    "\n",
    "Z0 = results['K4'].value\n",
    "M2 = results['K5'].value\n",
    "S2 = results['K6'].value\n",
    "N2 = results['K7'].value\n",
    "K2 = results['K8'].value\n",
    "K1 = results['K9'].value\n",
    "O1 = results['K10'].value\n",
    "P1 = results['K11'].value\n",
    "M4 = results['K12'].value\n",
    "MS4 = results['K13'].value\n",
    "\n",
    "HHWL = Z0 + S2 + K1 + O1 + P1 + M2 + K2\n",
    "LLWL = Z0 - (M2 + S2 + N2 + K1 + O1 + P1 + M4 + MS4)\n",
    "MHWL = Z0 + (M2 + S2)\n",
    "MLWL = Z0 - (M2 + S2)\n",
    "\n",
    "print(HHWL, MHWL, Z0, MLWL, LLWL)\n",
    "\n",
    "wb.close()"
   ]
  },
  {
   "cell_type": "markdown",
   "id": "dd893f75-56b1-4de5-9020-6932c122154f",
   "metadata": {},
   "source": [
    "1: 0.5103402630290366 0.24000239396078965 0.21253740617953432 0.18507241839827898 -0.2396688722988668\n",
    "100: 0.9433209812519656 0.5183703025896438 0.35372692542859147 0.18908354826753915 -0.4143937489349982\n",
    "500: 0.5520498851993269 0.2561199412571001 0.2018665634657847 0.1476131856744693 -0.2670258279947593\n",
    "1000: 0.589483074951265 0.2822054405206289 0.20717580564938662 0.1321461707781443 -0.27599377855357965\n",
    "2000: 0.4674378889654878 0.2088560435286184 0.17832787654229132 0.14779970955596425 -0.23469777330249147\n",
    "3000: 0.8029214984271281 0.40161706773386086 0.21142364514928993 0.021230222564719042 -0.37316177895413327"
   ]
  },
  {
   "cell_type": "code",
   "execution_count": 171,
   "id": "5583bafc-95df-48ee-97e0-419d85ed3ae6",
   "metadata": {},
   "outputs": [
    {
     "data": {
      "text/plain": [
       "360"
      ]
     },
     "execution_count": 171,
     "metadata": {},
     "output_type": "execute_result"
    }
   ],
   "source": []
  },
  {
   "cell_type": "code",
   "execution_count": null,
   "id": "2f900341-e7d4-4157-8114-943fbae391dc",
   "metadata": {},
   "outputs": [],
   "source": []
  },
  {
   "cell_type": "code",
   "execution_count": 189,
   "id": "4c6f5676-f549-44ed-9bde-e12b40931e85",
   "metadata": {},
   "outputs": [
    {
     "name": "stdout",
     "output_type": "stream",
     "text": [
      "1.4184608264202618 0.9080172405619822 -0.0003460574947640893 -0.9087093555515104 -1.432460338137139\n"
     ]
    }
   ],
   "source": [
    "import openpyxl as ox\n",
    "\n",
    "# Read existing workbook\n",
    "wb = ox.load_workbook(filename=tides_engine_path, read_only=False, keep_vba=True)\n",
    "results = wb['Calculation']\n",
    "\n",
    "Z0 = results['K4'].value\n",
    "M2 = results['K5'].value\n",
    "S2 = results['K6'].value\n",
    "N2 = results['K7'].value\n",
    "K2 = results['K8'].value\n",
    "K1 = results['K9'].value\n",
    "O1 = results['K10'].value\n",
    "P1 = results['K11'].value\n",
    "M4 = results['K12'].value\n",
    "MS4 = results['K13'].value\n",
    "\n",
    "HHWL = Z0 + S2 + K1 + O1 + P1 + M2 + K2\n",
    "LLWL = Z0 - (M2 + S2 + N2 + K1 + O1 + P1 + M4 + MS4)\n",
    "MHWL = Z0 + (M2 + S2)\n",
    "MLWL = Z0 - (M2 + S2)\n",
    "\n",
    "print(HHWL, MHWL, Z0, MLWL, LLWL)\n",
    "\n",
    "wb.close()"
   ]
  }
 ],
 "metadata": {
  "kernelspec": {
   "display_name": "Python 3 (ipykernel)",
   "language": "python",
   "name": "python3"
  },
  "language_info": {
   "codemirror_mode": {
    "name": "ipython",
    "version": 3
   },
   "file_extension": ".py",
   "mimetype": "text/x-python",
   "name": "python",
   "nbconvert_exporter": "python",
   "pygments_lexer": "ipython3",
   "version": "3.9.7"
  }
 },
 "nbformat": 4,
 "nbformat_minor": 5
}
